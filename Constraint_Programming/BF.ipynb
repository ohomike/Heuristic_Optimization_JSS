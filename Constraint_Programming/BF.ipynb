{
 "cells": [
  {
   "cell_type": "markdown",
   "metadata": {},
   "source": [
    "# Import"
   ]
  },
  {
   "cell_type": "code",
   "execution_count": 44,
   "metadata": {},
   "outputs": [],
   "source": [
    "import matplotlib.pyplot as plt\n",
    "import matplotlib as mpl\n",
    "import pandas as pd\n",
    "\n",
    "import shutil\n",
    "import sys\n",
    "import os.path\n",
    "\n",
    "# check if pyomo has been installed. If not, install with pip\n",
    "if not shutil.which(\"pyomo\"):\n",
    "    !pip install -q pyomo\n",
    "assert(shutil.which(\"pyomo\"))\n",
    "\n",
    "# check if ipopt is installed. If not, install.\n",
    "if not (shutil.which(\"ipopt\") or os.path.isfile(\"ipopt\")):\n",
    "    if \"google.colab\" in sys.modules:\n",
    "        !wget -N -q \"https://ampl.com/dl/open/ipopt/ipopt-linux64.zip\"\n",
    "        !unzip -o -q ipopt-linux64\n",
    "    else:\n",
    "        try:\n",
    "            !conda install -y -c conda-forge ipopt \n",
    "        except:\n",
    "            pass\n",
    "assert(shutil.which(\"ipopt\") or os.path.isfile(\"ipopt\"))\n",
    "\n",
    "# check if COIN-OR CBC is installed. If not, install.\n",
    "if not (shutil.which(\"cbc\") or os.path.isfile(\"cbc\")):\n",
    "    if \"google.colab\" in sys.modules:\n",
    "        !apt-get install -y -qq coinor-cbc\n",
    "    else:\n",
    "        try:\n",
    "            !conda install -y -c conda-forge coincbc \n",
    "        except:\n",
    "            pass\n",
    "assert(shutil.which(\"cbc\") or os.path.isfile(\"cbc\"))\n",
    "\n",
    "from pyomo.environ import *\n",
    "from pyomo.gdp import *\n",
    "from pyomo.environ import *\n",
    "from pyomo.opt import SolverFactory\n"
   ]
  },
  {
   "cell_type": "code",
   "execution_count": 39,
   "metadata": {},
   "outputs": [],
   "source": [
    "from pyomo.environ import *\n",
    "from pyomo.opt import SolverFactory"
   ]
  },
  {
   "cell_type": "markdown",
   "metadata": {},
   "source": [
    "# Input"
   ]
  },
  {
   "cell_type": "code",
   "execution_count": 17,
   "metadata": {},
   "outputs": [],
   "source": [
    "TASKS = {\n",
    "    ('Paper_1','Blue')   : {'dur': 45, 'prec': None},\n",
    "    ('Paper_1','Yellow') : {'dur': 10, 'prec': ('Paper_1','Blue')},\n",
    "    ('Paper_2','Blue')   : {'dur': 20, 'prec': ('Paper_2','Green')},\n",
    "    ('Paper_2','Green')  : {'dur': 10, 'prec': None},\n",
    "    ('Paper_2','Yellow') : {'dur': 34, 'prec': ('Paper_2','Blue')},\n",
    "    ('Paper_3','Blue')   : {'dur': 12, 'prec': ('Paper_3','Yellow')},\n",
    "    ('Paper_3','Green')  : {'dur': 17, 'prec': ('Paper_3','Blue')},\n",
    "    ('Paper_3','Yellow') : {'dur': 28, 'prec': None},   \n",
    "}"
   ]
  },
  {
   "cell_type": "markdown",
   "metadata": {},
   "source": [
    "# Algorithm"
   ]
  },
  {
   "cell_type": "code",
   "execution_count": 45,
   "metadata": {},
   "outputs": [
    {
     "name": "stdout",
     "output_type": "stream",
     "text": [
      "ERROR: Solver (cbc) returned non-zero return code (-6)\n"
     ]
    },
    {
     "ename": "ApplicationError",
     "evalue": "Solver (cbc) did not exit normally",
     "output_type": "error",
     "traceback": [
      "\u001b[0;31m---------------------------------------------------------------------------\u001b[0m",
      "\u001b[0;31mApplicationError\u001b[0m                          Traceback (most recent call last)",
      "Cell \u001b[0;32mIn[45], line 101\u001b[0m\n\u001b[1;32m     97\u001b[0m         ax[idx]\u001b[38;5;241m.\u001b[39mgrid(\u001b[38;5;28;01mTrue\u001b[39;00m)\n\u001b[1;32m     99\u001b[0m     fig\u001b[38;5;241m.\u001b[39mtight_layout()\n\u001b[0;32m--> 101\u001b[0m results \u001b[38;5;241m=\u001b[39m jobshop(TASKS)\n\u001b[1;32m    102\u001b[0m end \u001b[38;5;241m=\u001b[39m time\u001b[38;5;241m.\u001b[39mtime()\n\u001b[1;32m    103\u001b[0m visualize(results)\n",
      "Cell \u001b[0;32mIn[45], line 57\u001b[0m, in \u001b[0;36mjobshop\u001b[0;34m(TASKS)\u001b[0m\n\u001b[1;32m     56\u001b[0m \u001b[38;5;28;01mdef\u001b[39;00m \u001b[38;5;21mjobshop\u001b[39m(TASKS):\n\u001b[0;32m---> 57\u001b[0m     \u001b[38;5;28;01mreturn\u001b[39;00m jobshop_solve(jobshop_model(TASKS))\n",
      "Cell \u001b[0;32mIn[45], line 47\u001b[0m, in \u001b[0;36mjobshop_solve\u001b[0;34m(model)\u001b[0m\n\u001b[1;32m     46\u001b[0m \u001b[38;5;28;01mdef\u001b[39;00m \u001b[38;5;21mjobshop_solve\u001b[39m(model):\n\u001b[0;32m---> 47\u001b[0m     SolverFactory(\u001b[38;5;124m'\u001b[39m\u001b[38;5;124mcbc\u001b[39m\u001b[38;5;124m'\u001b[39m)\u001b[38;5;241m.\u001b[39msolve(model)\n\u001b[1;32m     48\u001b[0m     results \u001b[38;5;241m=\u001b[39m [{\u001b[38;5;124m'\u001b[39m\u001b[38;5;124mJob\u001b[39m\u001b[38;5;124m'\u001b[39m: j,\n\u001b[1;32m     49\u001b[0m                 \u001b[38;5;124m'\u001b[39m\u001b[38;5;124mMachine\u001b[39m\u001b[38;5;124m'\u001b[39m: m,\n\u001b[1;32m     50\u001b[0m                 \u001b[38;5;124m'\u001b[39m\u001b[38;5;124mStart\u001b[39m\u001b[38;5;124m'\u001b[39m: model\u001b[38;5;241m.\u001b[39mstart[j, m](),\n\u001b[1;32m     51\u001b[0m                 \u001b[38;5;124m'\u001b[39m\u001b[38;5;124mDuration\u001b[39m\u001b[38;5;124m'\u001b[39m: model\u001b[38;5;241m.\u001b[39mdur[j, m],\n\u001b[1;32m     52\u001b[0m                 \u001b[38;5;124m'\u001b[39m\u001b[38;5;124mFinish\u001b[39m\u001b[38;5;124m'\u001b[39m: model\u001b[38;5;241m.\u001b[39mstart[(j, m)]() \u001b[38;5;241m+\u001b[39m model\u001b[38;5;241m.\u001b[39mdur[j, m]}\n\u001b[1;32m     53\u001b[0m                \u001b[38;5;28;01mfor\u001b[39;00m j, m \u001b[38;5;129;01min\u001b[39;00m model\u001b[38;5;241m.\u001b[39mTASKS]\n\u001b[1;32m     54\u001b[0m     \u001b[38;5;28;01mreturn\u001b[39;00m results\n",
      "File \u001b[0;32m~/anaconda3/lib/python3.11/site-packages/pyomo/opt/base/solvers.py:627\u001b[0m, in \u001b[0;36mOptSolver.solve\u001b[0;34m(self, *args, **kwds)\u001b[0m\n\u001b[1;32m    625\u001b[0m     \u001b[38;5;28;01melif\u001b[39;00m \u001b[38;5;28mhasattr\u001b[39m(_status, \u001b[38;5;124m'\u001b[39m\u001b[38;5;124mlog\u001b[39m\u001b[38;5;124m'\u001b[39m) \u001b[38;5;129;01mand\u001b[39;00m _status\u001b[38;5;241m.\u001b[39mlog:\n\u001b[1;32m    626\u001b[0m         logger\u001b[38;5;241m.\u001b[39merror(\u001b[38;5;124m\"\u001b[39m\u001b[38;5;124mSolver log:\u001b[39m\u001b[38;5;130;01m\\n\u001b[39;00m\u001b[38;5;124m\"\u001b[39m \u001b[38;5;241m+\u001b[39m \u001b[38;5;28mstr\u001b[39m(_status\u001b[38;5;241m.\u001b[39mlog))\n\u001b[0;32m--> 627\u001b[0m     \u001b[38;5;28;01mraise\u001b[39;00m ApplicationError(\u001b[38;5;124m\"\u001b[39m\u001b[38;5;124mSolver (\u001b[39m\u001b[38;5;132;01m%s\u001b[39;00m\u001b[38;5;124m) did not exit normally\u001b[39m\u001b[38;5;124m\"\u001b[39m \u001b[38;5;241m%\u001b[39m \u001b[38;5;28mself\u001b[39m\u001b[38;5;241m.\u001b[39mname)\n\u001b[1;32m    628\u001b[0m solve_completion_time \u001b[38;5;241m=\u001b[39m time\u001b[38;5;241m.\u001b[39mtime()\n\u001b[1;32m    629\u001b[0m \u001b[38;5;28;01mif\u001b[39;00m \u001b[38;5;28mself\u001b[39m\u001b[38;5;241m.\u001b[39m_report_timing:\n",
      "\u001b[0;31mApplicationError\u001b[0m: Solver (cbc) did not exit normally"
     ]
    }
   ],
   "source": [
    "def jobshop_model(TASKS):\n",
    "\n",
    "    model = ConcreteModel()\n",
    "\n",
    "    # tasks is a two dimensional set of (j,m) constructed from the dictionary keys\n",
    "    model.TASKS = Set(initialize = TASKS.keys(), dimen=2)\n",
    "\n",
    "    # the set of jobs is constructed from a python set\n",
    "    model.JOBS = Set(initialize = list(set([j for (j,m) in model.TASKS])))\n",
    "\n",
    "    # set of machines is constructed from a python set\n",
    "    model.MACHINES = Set(initialize = list(set([m for (j,m) in model.TASKS])))\n",
    "\n",
    "    # the order of tasks is constructed as a cross-product of tasks and filtering\n",
    "    model.TASKORDER = Set(initialize = model.TASKS * model.TASKS, dimen=4,\n",
    "        filter = lambda model, j, m, k, n: (k,n) == TASKS[(j,m)]['prec'])\n",
    "\n",
    "    # the set of disjunctions is cross-product of jobs, jobs, and machines\n",
    "    model.DISJUNCTIONS = Set(initialize = model.JOBS * model.JOBS * model.MACHINES, dimen=3,\n",
    "        filter = lambda model, j, k, m: j < k and (j,m) in model.TASKS and (k,m) in model.TASKS)\n",
    "\n",
    "    # load duration data into a model parameter for later access\n",
    "    model.dur = Param(model.TASKS, initialize=lambda model, j, m: TASKS[(j,m)]['dur'])\n",
    "\n",
    "    #Upper bound on makespan\n",
    "    ub = sum([model.dur[j, m] for (j,m) in model.TASKS])\n",
    "\n",
    "    # create decision variables\n",
    "    model.makespan = Var(bounds=(0, ub))\n",
    "    model.start = Var(model.TASKS, bounds=(0, ub))\n",
    "\n",
    "    model.objective = Objective(expr = model.makespan, sense = minimize)\n",
    "\n",
    "    model.finish = Constraint(model.TASKS, rule=lambda model, j, m:\n",
    "        model.start[j,m] + model.dur[j,m] <= model.makespan)\n",
    "\n",
    "    model.preceding = Constraint(model.TASKORDER, rule=lambda model, j, m, k, n:\n",
    "        model.start[k,n] + model.dur[k,n] <= model.start[j,m])\n",
    "\n",
    "    model.disjunctions = Disjunction(model.DISJUNCTIONS, rule=lambda model,j,k,m:\n",
    "        [model.start[j,m] + model.dur[j,m] <= model.start[k,m],\n",
    "         model.start[k,m] + model.dur[k,m] <= model.start[j,m]])\n",
    "    TransformationFactory('gdp.hull').apply_to(model)\n",
    "    return model\n",
    "\n",
    "def jobshop_solve(model):\n",
    "    SolverFactory('cbc').solve(model)\n",
    "    results = [{'Job': j,\n",
    "                'Machine': m,\n",
    "                'Start': model.start[j, m](),\n",
    "                'Duration': model.dur[j, m],\n",
    "                'Finish': model.start[(j, m)]() + model.dur[j, m]}\n",
    "               for j, m in model.TASKS]\n",
    "    return results\n",
    "\n",
    "def jobshop(TASKS):\n",
    "    return jobshop_solve(jobshop_model(TASKS))\n",
    "\n",
    "def visualize(results):\n",
    "\n",
    "    schedule = pd.DataFrame(results)\n",
    "    JOBS = sorted(list(schedule['Job'].unique()))\n",
    "    MACHINES = sorted(list(schedule['Machine'].unique()))\n",
    "    makespan = schedule['Finish'].max()\n",
    "\n",
    "    bar_style = {'alpha':1.0, 'lw':25, 'solid_capstyle':'butt'}\n",
    "    text_style = {'color':'white', 'weight':'bold', 'ha':'center', 'va':'center'}\n",
    "    colors = mpl.cm.Dark2.colors\n",
    "\n",
    "    schedule.sort_values(by=['Job', 'Start'])\n",
    "    schedule.set_index(['Job', 'Machine'], inplace=True)\n",
    "\n",
    "    fig, ax = plt.subplots(2,1, figsize=(12, 5+(len(JOBS)+len(MACHINES))/4))\n",
    "\n",
    "    for jdx, j in enumerate(JOBS, 1):\n",
    "        for mdx, m in enumerate(MACHINES, 1):\n",
    "            if (j,m) in schedule.index:\n",
    "                xs = schedule.loc[(j,m), 'Start']\n",
    "                xf = schedule.loc[(j,m), 'Finish']\n",
    "                ax[0].plot([xs, xf], [jdx]*2, c=colors[mdx%7], **bar_style)\n",
    "                ax[0].text((xs + xf)/2, jdx, m, **text_style)\n",
    "                ax[1].plot([xs, xf], [mdx]*2, c=colors[jdx%7], **bar_style)\n",
    "                ax[1].text((xs + xf)/2, mdx, j, **text_style)\n",
    "\n",
    "    ax[0].set_title('Job Schedule')\n",
    "    ax[0].set_ylabel('Job')\n",
    "    ax[1].set_title('Machine Schedule')\n",
    "    ax[1].set_ylabel('Machine')\n",
    "\n",
    "    for idx, s in enumerate([JOBS, MACHINES]):\n",
    "        ax[idx].set_ylim(0.5, len(s) + 0.5)\n",
    "        ax[idx].set_yticks(range(1, 1 + len(s)))\n",
    "        ax[idx].set_yticklabels(s)\n",
    "        ax[idx].text(makespan, ax[idx].get_ylim()[0]-0.2, \"{0:0.1f}\".format(makespan), ha='center', va='top')\n",
    "        ax[idx].plot([makespan]*2, ax[idx].get_ylim(), 'r--')\n",
    "        ax[idx].set_xlabel('Time')\n",
    "        ax[idx].grid(True)\n",
    "\n",
    "    fig.tight_layout()\n",
    "\n",
    "results = jobshop(TASKS)\n",
    "end = time.time()\n",
    "visualize(results)\n",
    "print(end-start)"
   ]
  }
 ],
 "metadata": {
  "kernelspec": {
   "display_name": "base",
   "language": "python",
   "name": "python3"
  },
  "language_info": {
   "codemirror_mode": {
    "name": "ipython",
    "version": 3
   },
   "file_extension": ".py",
   "mimetype": "text/x-python",
   "name": "python",
   "nbconvert_exporter": "python",
   "pygments_lexer": "ipython3",
   "version": "3.11.4"
  }
 },
 "nbformat": 4,
 "nbformat_minor": 2
}
